{
 "cells": [
  {
   "cell_type": "code",
   "execution_count": 69,
   "metadata": {},
   "outputs": [
    {
     "name": "stdout",
     "output_type": "stream",
     "text": [
      "Beginning file download...\n"
     ]
    }
   ],
   "source": [
    "from help_functions import download_and_unzip\n",
    "import pandas as pd\n",
    "\n",
    "download_and_unzip('https://storage.googleapis.com/ztm_tf_course/nlp_getting_started.zip', 'getting_started.zip')"
   ]
  },
  {
   "cell_type": "code",
   "execution_count": 70,
   "metadata": {},
   "outputs": [],
   "source": [
    "train_data = pd.read_csv('train.csv')\n",
    "test_data = pd.read_csv('test.csv')\n",
    "\n",
    "#shuffle data\n",
    "train_df_shuffled = train_data.sample(frac=1, random_state=42)"
   ]
  },
  {
   "cell_type": "code",
   "execution_count": 71,
   "metadata": {},
   "outputs": [],
   "source": [
    "from sklearn.model_selection import train_test_split\n",
    "\n",
    "features_train, features_test, labels_train, labels_test = train_test_split(train_df_shuffled['text'].tolist(), \n",
    "                                                                            train_df_shuffled.target.tolist(), \n",
    "                                                                            test_size=0.2, \n",
    "                                                                            random_state=42)"
   ]
  },
  {
   "cell_type": "code",
   "execution_count": 72,
   "metadata": {},
   "outputs": [],
   "source": [
    "from sklearn.feature_extraction.text import TfidfVectorizer\n",
    "\n",
    "vectorizer = TfidfVectorizer()\n",
    "features_train = vectorizer.fit_transform(features_train)\n",
    "features_test = vectorizer.transform(features_test)"
   ]
  },
  {
   "cell_type": "code",
   "execution_count": 73,
   "metadata": {},
   "outputs": [
    {
     "data": {
      "text/plain": [
       "((6090, 18454), (1523, 18454))"
      ]
     },
     "execution_count": 73,
     "metadata": {},
     "output_type": "execute_result"
    }
   ],
   "source": [
    "features_train.shape, features_test.shape"
   ]
  },
  {
   "cell_type": "code",
   "execution_count": 74,
   "metadata": {},
   "outputs": [],
   "source": [
    "from sklearn.feature_selection import SelectPercentile, f_classif\n",
    "\n",
    "perc = SelectPercentile(f_classif, percentile=10)\n",
    "features_train_vec = perc.fit_transform(features_train, labels_train).toarray()\n",
    "\n",
    "features_test_vec =perc.transform(features_test).toarray()\n",
    "\n"
   ]
  },
  {
   "cell_type": "code",
   "execution_count": 75,
   "metadata": {},
   "outputs": [
    {
     "data": {
      "text/plain": [
       "((1523, 1846), (6090, 1846))"
      ]
     },
     "execution_count": 75,
     "metadata": {},
     "output_type": "execute_result"
    }
   ],
   "source": [
    "features_test_vec.shape, features_train_vec.shape"
   ]
  },
  {
   "cell_type": "code",
   "execution_count": 76,
   "metadata": {},
   "outputs": [],
   "source": [
    "from sklearn.naive_bayes import GaussianNB\n",
    "\n",
    "ClassifierNB = GaussianNB()\n",
    "\n",
    "ClassifierNB.fit(features_train_vec, labels_train)\n",
    "\n",
    "pred = ClassifierNB.predict(features_test_vec).tolist()\n"
   ]
  },
  {
   "cell_type": "code",
   "execution_count": 77,
   "metadata": {},
   "outputs": [],
   "source": [
    "score_test = ClassifierNB.score(features_test_vec, labels_test)"
   ]
  },
  {
   "cell_type": "code",
   "execution_count": 78,
   "metadata": {},
   "outputs": [
    {
     "name": "stdout",
     "output_type": "stream",
     "text": [
      "accuracy: 0.7262\n",
      "Precision: 0.8010\n",
      "Recall: 0.49624060150375937\n",
      "F1-Score: 0.6128\n",
      "(tn, fp, fn, tp): (776, 82, 335, 330)\n"
     ]
    },
    {
     "data": {
      "text/plain": [
       "(0.7261982928430729,\n",
       " 0.8009708737864077,\n",
       " 0.49624060150375937,\n",
       " 0.6128133704735376,\n",
       " (776, 82, 335, 330))"
      ]
     },
     "execution_count": 78,
     "metadata": {},
     "output_type": "execute_result"
    }
   ],
   "source": [
    "from sklearn.metrics import accuracy_score, precision_score, confusion_matrix, recall_score, f1_score\n",
    "\n",
    "def matrices_calc(y_true, y_pred):\n",
    "    accuracy = accuracy_score(y_true, y_pred)\n",
    "    precision = precision_score(y_true, y_pred)\n",
    "    recall = recall_score(y_true, y_pred)\n",
    "    f1 = f1_score(y_true, y_pred)\n",
    "    (tn, fp, fn, tp) = confusion_matrix(y_true, y_pred).ravel()\n",
    "    print(f'accuracy: {accuracy:.4f}\\nPrecision: {precision:.4f}\\nRecall: {recall}\\nF1-Score: {f1:.4f}\\n(tn, fp, fn, tp): {(tn, fp, fn, tp)}')\n",
    "    return accuracy, precision, recall, f1, (tn, fp, fn, tp)\n",
    "\n",
    "matrices_calc(labels_test, pred)\n"
   ]
  },
  {
   "cell_type": "code",
   "execution_count": 79,
   "metadata": {},
   "outputs": [],
   "source": [
    "from sklearn.naive_bayes import MultinomialNB\n",
    "\n",
    "ClassifierMNB = MultinomialNB()\n",
    "\n",
    "ClassifierMNB.fit(features_train_vec, labels_train)\n",
    "\n",
    "pred = ClassifierMNB.predict(features_test_vec).tolist()"
   ]
  },
  {
   "cell_type": "code",
   "execution_count": 80,
   "metadata": {},
   "outputs": [],
   "source": [
    "score_test = ClassifierMNB.score(features_test_vec, labels_test)"
   ]
  },
  {
   "cell_type": "code",
   "execution_count": 81,
   "metadata": {},
   "outputs": [
    {
     "name": "stdout",
     "output_type": "stream",
     "text": [
      "accuracy: 0.7827\n",
      "Precision: 0.8538\n",
      "Recall: 0.606015037593985\n",
      "F1-Score: 0.7089\n",
      "(tn, fp, fn, tp): (789, 69, 262, 403)\n"
     ]
    },
    {
     "data": {
      "text/plain": [
       "(0.7826657912015759,\n",
       " 0.8538135593220338,\n",
       " 0.606015037593985,\n",
       " 0.7088830255057168,\n",
       " (789, 69, 262, 403))"
      ]
     },
     "execution_count": 81,
     "metadata": {},
     "output_type": "execute_result"
    }
   ],
   "source": [
    "matrices_calc(labels_test, pred)\n"
   ]
  },
  {
   "cell_type": "code",
   "execution_count": 82,
   "metadata": {},
   "outputs": [
    {
     "data": {
      "text/plain": [
       "Pipeline(steps=[('tfidf', TfidfVectorizer()), ('clf', MultinomialNB())])"
      ]
     },
     "execution_count": 82,
     "metadata": {},
     "output_type": "execute_result"
    }
   ],
   "source": [
    "from sklearn.pipeline import Pipeline\n",
    "\n",
    "features_train, features_test, labels_train, labels_test = train_test_split(train_df_shuffled['text'].tolist(), \n",
    "                                                                            train_df_shuffled.target.tolist(), \n",
    "                                                                            test_size=0.2, \n",
    "                                                                            random_state=42)\n",
    "\n",
    "model_0 = Pipeline([\n",
    "('tfidf', TfidfVectorizer()),\n",
    "('clf', MultinomialNB())\n",
    "])\n",
    "\n",
    "\n",
    "model_0.fit(X = features_train, y = labels_train)"
   ]
  },
  {
   "cell_type": "code",
   "execution_count": 83,
   "metadata": {},
   "outputs": [],
   "source": [
    "pred = model_0.predict(features_test).tolist()"
   ]
  },
  {
   "cell_type": "code",
   "execution_count": 103,
   "metadata": {},
   "outputs": [
    {
     "name": "stdout",
     "output_type": "stream",
     "text": [
      "accuracy: 0.7991\n",
      "Precision: 0.8827\n",
      "Recall: 0.6225563909774436\n",
      "F1-Score: 0.7302\n",
      "(tn, fp, fn, tp): (803, 55, 251, 414)\n"
     ]
    },
    {
     "data": {
      "text/plain": [
       "(0.799080761654629,\n",
       " 0.8827292110874201,\n",
       " 0.6225563909774436,\n",
       " 0.7301587301587301,\n",
       " (803, 55, 251, 414))"
      ]
     },
     "execution_count": 103,
     "metadata": {},
     "output_type": "execute_result"
    }
   ],
   "source": [
    "metrics = matrices_calc(labels_test, pred)\n",
    "metrics\n"
   ]
  },
  {
   "cell_type": "code",
   "execution_count": 85,
   "metadata": {},
   "outputs": [
    {
     "data": {
      "text/plain": [
       "0.799080761654629"
      ]
     },
     "execution_count": 85,
     "metadata": {},
     "output_type": "execute_result"
    }
   ],
   "source": [
    "score_test = model_0.score(features_test, labels_test)\n",
    "score_test\n"
   ]
  },
  {
   "cell_type": "code",
   "execution_count": null,
   "metadata": {},
   "outputs": [],
   "source": []
  }
 ],
 "metadata": {
  "interpreter": {
   "hash": "b6dd608ddd16ef8114cec5f050ad31736520bdbacef8568d33dc109fcf0153f1"
  },
  "kernelspec": {
   "display_name": "Python 3.8.0 64-bit",
   "language": "python",
   "name": "python3"
  },
  "language_info": {
   "codemirror_mode": {
    "name": "ipython",
    "version": 3
   },
   "file_extension": ".py",
   "mimetype": "text/x-python",
   "name": "python",
   "nbconvert_exporter": "python",
   "pygments_lexer": "ipython3",
   "version": "3.8.0"
  },
  "orig_nbformat": 4
 },
 "nbformat": 4,
 "nbformat_minor": 2
}
