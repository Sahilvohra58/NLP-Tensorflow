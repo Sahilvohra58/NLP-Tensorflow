{
 "cells": [
  {
   "cell_type": "code",
   "execution_count": 8,
   "metadata": {},
   "outputs": [
    {
     "name": "stdout",
     "output_type": "stream",
     "text": [
      "Beginning file download...\n"
     ]
    }
   ],
   "source": [
    "from help_functions import download_and_unzip\n",
    "import pandas as pd\n",
    "\n",
    "download_and_unzip('https://storage.googleapis.com/ztm_tf_course/nlp_getting_started.zip', 'getting_started.zip')"
   ]
  },
  {
   "cell_type": "code",
   "execution_count": 72,
   "metadata": {},
   "outputs": [],
   "source": [
    "train_data = pd.read_csv('train.csv')\n",
    "test_data = pd.read_csv('test.csv')"
   ]
  },
  {
   "cell_type": "code",
   "execution_count": 73,
   "metadata": {},
   "outputs": [],
   "source": [
    "train_data.drop(columns = ['keyword', 'location', 'id'], inplace = True)\n",
    "test_data.drop(columns = ['keyword', 'location', 'id'], inplace = True)"
   ]
  },
  {
   "cell_type": "code",
   "execution_count": 74,
   "metadata": {},
   "outputs": [],
   "source": [
    "from sklearn.model_selection import train_test_split\n",
    "\n",
    "features_train, features_val, labels_train, labels_val = train_test_split(train_data['text'].tolist(), \n",
    "                                                                            train_data['target'].tolist(), \n",
    "                                                                            test_size=0.2, \n",
    "                                                                            random_state=42)"
   ]
  },
  {
   "cell_type": "code",
   "execution_count": 75,
   "metadata": {},
   "outputs": [],
   "source": [
    "import tensorflow as tf\n",
    "train_data = tf.data.Dataset.from_tensor_slices((features_train, labels_train)).repeat(2).shuffle(500).batch(32).prefetch(tf.data.AUTOTUNE)\n",
    "val_data = tf.data.Dataset.from_tensor_slices((features_val, labels_val)).batch(32)"
   ]
  },
  {
   "cell_type": "code",
   "execution_count": 76,
   "metadata": {},
   "outputs": [
    {
     "name": "stdout",
     "output_type": "stream",
     "text": [
      "b'@NoahCRothman Bore him with minutiae serve bad champagne. He may just explode.'\n",
      "0\n"
     ]
    }
   ],
   "source": [
    "for text, target in train_data.take(1):\n",
    "    print(text[0].numpy())\n",
    "    print(target[0].numpy())\n",
    "    break"
   ]
  },
  {
   "cell_type": "code",
   "execution_count": 77,
   "metadata": {},
   "outputs": [],
   "source": [
    "textvectorizer = tf.keras.layers.TextVectorization(\n",
    "    max_tokens=10000, standardize='lower_and_strip_punctuation',\n",
    "    split='whitespace', ngrams=None, output_mode='int',\n",
    "    output_sequence_length=15, pad_to_max_tokens=False)\n",
    "\n",
    "textvectorizer.adapt(features_train)"
   ]
  },
  {
   "cell_type": "code",
   "execution_count": 78,
   "metadata": {},
   "outputs": [
    {
     "data": {
      "text/plain": [
       "<tf.Tensor: shape=(15,), dtype=int64, numpy=\n",
       "array([   7,   31,  936, 4290,  100,  566,  695,  108,  208,    5, 3960,\n",
       "        146, 1866,  423,   11], dtype=int64)>"
      ]
     },
     "execution_count": 78,
     "metadata": {},
     "output_type": "execute_result"
    }
   ],
   "source": [
    "textvectorizer(text[5])"
   ]
  },
  {
   "cell_type": "code",
   "execution_count": 20,
   "metadata": {},
   "outputs": [],
   "source": [
    "embedding_layer = tf.keras.layers.Embedding(input_dim = 10000, \n",
    "                                            output_dim = 128, \n",
    "                                            embeddings_initializer='uniform', \n",
    "                                            input_length=15)\n"
   ]
  },
  {
   "cell_type": "markdown",
   "metadata": {},
   "source": [
    "**DENSE LAYER MODEL**"
   ]
  },
  {
   "cell_type": "code",
   "execution_count": 21,
   "metadata": {},
   "outputs": [],
   "source": [
    "from tensorflow.keras import layers\n",
    "input = layers.Input(shape = (1,), dtype=\"string\")\n",
    "x = textvectorizer(input)\n",
    "x = embedding_layer(x)\n",
    "x = layers.GlobalAveragePooling1D()(x)\n",
    "#x = tf.keras.layers.Dense(15, activation='relu')(x)\n",
    "output = tf.keras.layers.Dense(1, activation='sigmoid')(x)\n",
    "\n",
    "model = tf.keras.Model(input, output, name = 'model_Dense_1')"
   ]
  },
  {
   "cell_type": "code",
   "execution_count": 23,
   "metadata": {},
   "outputs": [
    {
     "name": "stdout",
     "output_type": "stream",
     "text": [
      "Epoch 1/5\n",
      "381/381 [==============================] - 6s 14ms/step - loss: 0.5496 - accuracy: 0.7731 - val_loss: 0.5748 - val_accuracy: 0.7455 - lr: 1.0000e-04\n",
      "Epoch 2/5\n",
      "381/381 [==============================] - 5s 13ms/step - loss: 0.5113 - accuracy: 0.7973 - val_loss: 0.5521 - val_accuracy: 0.7634 - lr: 1.1220e-04\n",
      "Epoch 3/5\n",
      "381/381 [==============================] - 5s 14ms/step - loss: 0.4723 - accuracy: 0.8158 - val_loss: 0.5321 - val_accuracy: 0.7545 - lr: 1.2589e-04\n",
      "Epoch 4/5\n",
      "381/381 [==============================] - 5s 13ms/step - loss: 0.4348 - accuracy: 0.8337 - val_loss: 0.5161 - val_accuracy: 0.7768 - lr: 1.4125e-04\n",
      "Epoch 5/5\n",
      "381/381 [==============================] - 5s 14ms/step - loss: 0.3994 - accuracy: 0.8502 - val_loss: 0.5040 - val_accuracy: 0.7857 - lr: 1.5849e-04\n"
     ]
    }
   ],
   "source": [
    "model.compile(loss = 'binary_crossentropy', optimizer=tf.keras.optimizers.Adam(), metrics=['accuracy'])\n",
    "\n",
    "import datetime\n",
    "log_dir = \"Tensorboard/Dense_Layer_Exp/\" + datetime.datetime.now().strftime(\"%Y%m%d-%H%M%S\")\n",
    "callbacks = [\n",
    "             tf.keras.callbacks.LearningRateScheduler(lambda epoch: 1e-4 * 10 ** (epoch / 20), verbose=0),\n",
    "             tf.keras.callbacks.ReduceLROnPlateau(monitor=\"val_loss\",  \n",
    "                                                 factor=0.2, # multiply the learning rate by 0.2 (reduce by 5x)\n",
    "                                                 patience=2,\n",
    "                                                 verbose=1, # print out when learning rate goes down \n",
    "                                                 min_lr=1e-7),\n",
    "              tf.keras.callbacks.EarlyStopping(monitor='val_accuracy',\n",
    "                                              patience=5, \n",
    "                                              verbose=0),\n",
    "              tf.keras.callbacks.ModelCheckpoint(\n",
    "                  filepath='Models_checkpoints/Dense_Layer_Exp/model_ep_{epoch:02d}_val_accuracy_{val_accuracy:.4f}.ckpt',\n",
    "                  # file path format: \"Model_checkpoint_Classification_2/cp-{epoch:02d}-{val_loss:.02f}.ckpt\"\n",
    "                  save_weights_only=True,\n",
    "                  verbose=0),\n",
    "            tf.keras.callbacks.TensorBoard(log_dir=log_dir)\n",
    "                ]\n",
    "\n",
    "history = model.fit(train_data, \n",
    "                    epochs=5,\n",
    "                    steps_per_epoch = len(train_data),\n",
    "                    validation_data = val_data,\n",
    "                    validation_steps = int(0.15*len(val_data)),\n",
    "                    callbacks = callbacks)"
   ]
  },
  {
   "cell_type": "code",
   "execution_count": 24,
   "metadata": {},
   "outputs": [
    {
     "name": "stdout",
     "output_type": "stream",
     "text": [
      "Epoch 5/10\n",
      "381/381 [==============================] - 5s 13ms/step - loss: 0.3671 - accuracy: 0.8617 - val_loss: 0.4966 - val_accuracy: 0.7812 - lr: 1.5849e-04\n",
      "Epoch 6/10\n",
      "381/381 [==============================] - 5s 14ms/step - loss: 0.3378 - accuracy: 0.8731 - val_loss: 0.4924 - val_accuracy: 0.7857 - lr: 1.7783e-04\n",
      "Epoch 7/10\n",
      "381/381 [==============================] - 5s 13ms/step - loss: 0.3091 - accuracy: 0.8842 - val_loss: 0.4908 - val_accuracy: 0.7768 - lr: 1.9953e-04\n",
      "Epoch 8/10\n",
      "381/381 [==============================] - 5s 13ms/step - loss: 0.2810 - accuracy: 0.8977 - val_loss: 0.4921 - val_accuracy: 0.7723 - lr: 2.2387e-04\n",
      "Epoch 9/10\n",
      "379/381 [============================>.] - ETA: 0s - loss: 0.2535 - accuracy: 0.9115\n",
      "Epoch 00009: ReduceLROnPlateau reducing learning rate to 5.023772828280926e-05.\n",
      "381/381 [==============================] - 5s 13ms/step - loss: 0.2535 - accuracy: 0.9115 - val_loss: 0.4980 - val_accuracy: 0.7679 - lr: 2.5119e-04\n",
      "Epoch 10/10\n",
      "381/381 [==============================] - 5s 14ms/step - loss: 0.2269 - accuracy: 0.9213 - val_loss: 0.5075 - val_accuracy: 0.7545 - lr: 2.8184e-04\n"
     ]
    }
   ],
   "source": [
    "model.load_weights('Models_checkpoints\\Dense_Layer_Exp\\model_ep_05_val_accuracy_0.7857.ckpt')\n",
    "history_01 = model.fit(train_data, \n",
    "                    initial_epoch = 4,\n",
    "                    epochs=10,\n",
    "                    steps_per_epoch = len(train_data),\n",
    "                    validation_data = val_data,\n",
    "                    validation_steps = int(0.15*len(val_data)),\n",
    "                    callbacks = callbacks)"
   ]
  },
  {
   "cell_type": "code",
   "execution_count": 25,
   "metadata": {},
   "outputs": [
    {
     "data": {
      "text/plain": [
       "<tensorflow.python.training.tracking.util.CheckpointLoadStatus at 0x16f208b8040>"
      ]
     },
     "execution_count": 25,
     "metadata": {},
     "output_type": "execute_result"
    }
   ],
   "source": [
    "model.load_weights('Models_checkpoints\\Dense_Layer_Exp\\model_ep_06_val_accuracy_0.7857.ckpt')\n"
   ]
  },
  {
   "cell_type": "code",
   "execution_count": 26,
   "metadata": {},
   "outputs": [
    {
     "name": "stdout",
     "output_type": "stream",
     "text": [
      "48/48 [==============================] - 0s 1ms/step - loss: 0.4507 - accuracy: 0.8096\n"
     ]
    },
    {
     "data": {
      "text/plain": [
       "[0.4507176876068115, 0.8095863461494446]"
      ]
     },
     "execution_count": 26,
     "metadata": {},
     "output_type": "execute_result"
    }
   ],
   "source": [
    "model.evaluate(val_data)"
   ]
  },
  {
   "cell_type": "code",
   "execution_count": 27,
   "metadata": {},
   "outputs": [],
   "source": [
    "preds = tf.round(tf.squeeze(model.predict(test_data))).numpy().tolist()"
   ]
  },
  {
   "cell_type": "code",
   "execution_count": 137,
   "metadata": {},
   "outputs": [
    {
     "data": {
      "text/plain": [
       "{'accuracy': 0.8003939592908733,\n",
       " 'precision': 0.822429906542056,\n",
       " 'recall': 0.6779661016949152,\n",
       " 'F1-Score': 0.7432432432432432,\n",
       " '(tn, fp, fn, tp)': (779, 95, 209, 440)}"
      ]
     },
     "execution_count": 137,
     "metadata": {},
     "output_type": "execute_result"
    }
   ],
   "source": [
    "from sklearn.metrics import accuracy_score, precision_score, confusion_matrix, recall_score, f1_score\n",
    "\n",
    "def matrices_calc(y_true, y_pred):\n",
    "    accuracy = accuracy_score(y_true, y_pred)\n",
    "    precision = precision_score(y_true, y_pred)\n",
    "    recall = recall_score(y_true, y_pred)\n",
    "    f1 = f1_score(y_true, y_pred)\n",
    "    (tn, fp, fn, tp) = confusion_matrix(y_true, y_pred).ravel()\n",
    "    #print(f'accuracy: {accuracy:.4f}\\nPrecision: {precision:.4f}\\nRecall: {recall}\\nF1-Score: {f1:.4f}\\n(tn, fp, fn, tp): {(tn, fp, fn, tp)}')\n",
    "    metrics = {'accuracy': accuracy,\n",
    "                'precision': precision,\n",
    "                'recall': recall,\n",
    "                'F1-Score': f1,\n",
    "                '(tn, fp, fn, tp)': (tn, fp, fn, tp)}\n",
    "    return metrics\n",
    "\n",
    "base_model_results = matrices_calc(labels_val, tf.round(tf.squeeze(model.predict(features_val))).numpy().tolist())\n",
    "base_model_results"
   ]
  },
  {
   "cell_type": "markdown",
   "metadata": {},
   "source": [
    "**LSTM LAYER MODEL**"
   ]
  },
  {
   "cell_type": "code",
   "execution_count": 41,
   "metadata": {},
   "outputs": [],
   "source": [
    "embedding_layer = tf.keras.layers.Embedding(input_dim = 10000, \n",
    "                                            output_dim = 128, \n",
    "                                            embeddings_initializer='uniform', \n",
    "                                            input_length=15)"
   ]
  },
  {
   "cell_type": "code",
   "execution_count": 42,
   "metadata": {},
   "outputs": [],
   "source": [
    "input = layers.Input(shape = (1,), dtype=\"string\")\n",
    "x = textvectorizer(input)\n",
    "x = embedding_layer(x)\n",
    "x = layers.LSTM(64)(x)\n",
    "output = tf.keras.layers.Dense(1, activation='sigmoid')(x)\n",
    "\n",
    "model_LSTM = tf.keras.Model(input, output, name = 'model_LSTM_1')"
   ]
  },
  {
   "cell_type": "code",
   "execution_count": 43,
   "metadata": {},
   "outputs": [
    {
     "name": "stdout",
     "output_type": "stream",
     "text": [
      "Epoch 1/5\n",
      "381/381 [==============================] - 8s 17ms/step - loss: 0.5892 - accuracy: 0.6689 - val_loss: 0.5332 - val_accuracy: 0.7500 - lr: 1.0000e-04\n",
      "Epoch 2/5\n",
      "381/381 [==============================] - 7s 18ms/step - loss: 0.3157 - accuracy: 0.8722 - val_loss: 0.6005 - val_accuracy: 0.7054 - lr: 1.1220e-04\n",
      "Epoch 3/5\n",
      "380/381 [============================>.] - ETA: 0s - loss: 0.1984 - accuracy: 0.9308\n",
      "Epoch 00003: ReduceLROnPlateau reducing learning rate to 2.517850953154266e-05.\n",
      "381/381 [==============================] - 6s 15ms/step - loss: 0.1982 - accuracy: 0.9310 - val_loss: 0.7464 - val_accuracy: 0.7054 - lr: 1.2589e-04\n",
      "Epoch 4/5\n",
      "381/381 [==============================] - 6s 17ms/step - loss: 0.1362 - accuracy: 0.9544 - val_loss: 0.8267 - val_accuracy: 0.7098 - lr: 1.4125e-04\n",
      "Epoch 5/5\n",
      "378/381 [============================>.] - ETA: 0s - loss: 0.1063 - accuracy: 0.9633\n",
      "Epoch 00005: ReduceLROnPlateau reducing learning rate to 3.169786359649152e-05.\n",
      "381/381 [==============================] - 6s 15ms/step - loss: 0.1067 - accuracy: 0.9632 - val_loss: 0.9321 - val_accuracy: 0.6964 - lr: 1.5849e-04\n"
     ]
    }
   ],
   "source": [
    "model_LSTM.compile(loss = 'binary_crossentropy', optimizer=tf.keras.optimizers.Adam(), metrics=['accuracy'])\n",
    "\n",
    "log_dir = \"Tensorboard/LSTM_Layer_Exp/\" + datetime.datetime.now().strftime(\"%Y%m%d-%H%M%S\")\n",
    "callbacks = [\n",
    "             tf.keras.callbacks.LearningRateScheduler(lambda epoch: 1e-4 * 10 ** (epoch / 20), verbose=0),\n",
    "             tf.keras.callbacks.ReduceLROnPlateau(monitor=\"val_loss\",  \n",
    "                                                 factor=0.2, # multiply the learning rate by 0.2 (reduce by 5x)\n",
    "                                                 patience=2,\n",
    "                                                 verbose=1, # print out when learning rate goes down \n",
    "                                                 min_lr=1e-7),\n",
    "              tf.keras.callbacks.EarlyStopping(monitor='val_accuracy',\n",
    "                                              patience=5, \n",
    "                                              verbose=0),\n",
    "              tf.keras.callbacks.ModelCheckpoint(\n",
    "                  filepath='Models_checkpoints/LSTM_Layer_Exp/model_ep_{epoch:02d}_val_accuracy_{val_accuracy:.4f}.ckpt',\n",
    "                  # file path format: \"Model_checkpoint_Classification_2/cp-{epoch:02d}-{val_loss:.02f}.ckpt\"\n",
    "                  save_weights_only=True,\n",
    "                  verbose=0),\n",
    "            tf.keras.callbacks.TensorBoard(log_dir=log_dir)\n",
    "                ]\n",
    "\n",
    "history_LSTM = model_LSTM.fit(train_data, \n",
    "                    epochs=5,\n",
    "                    steps_per_epoch = len(train_data),\n",
    "                    validation_data = val_data,\n",
    "                    validation_steps = int(0.15*len(val_data)),\n",
    "                    callbacks = callbacks)"
   ]
  },
  {
   "cell_type": "code",
   "execution_count": 45,
   "metadata": {},
   "outputs": [
    {
     "name": "stdout",
     "output_type": "stream",
     "text": [
      "48/48 [==============================] - 0s 4ms/step - loss: 0.7857 - accuracy: 0.7597\n"
     ]
    },
    {
     "data": {
      "text/plain": [
       "[0.7857215404510498, 0.7596848607063293]"
      ]
     },
     "execution_count": 45,
     "metadata": {},
     "output_type": "execute_result"
    }
   ],
   "source": [
    "model_LSTM.load_weights('Models_checkpoints\\LSTM_Layer_Exp\\model_ep_05_val_accuracy_0.6964.ckpt')\n",
    "model_LSTM.evaluate(val_data)"
   ]
  },
  {
   "cell_type": "code",
   "execution_count": 138,
   "metadata": {},
   "outputs": [
    {
     "data": {
      "text/plain": [
       "{'accuracy': 0.7596848325673013,\n",
       " 'precision': 0.7140695915279879,\n",
       " 'recall': 0.7272727272727273,\n",
       " 'F1-Score': 0.7206106870229007,\n",
       " '(tn, fp, fn, tp)': (685, 189, 177, 472)}"
      ]
     },
     "execution_count": 138,
     "metadata": {},
     "output_type": "execute_result"
    }
   ],
   "source": [
    "preds_LSTM = tf.round(tf.squeeze(model_LSTM.predict(test_data))).numpy().tolist()\n",
    "LSTM_model_results = matrices_calc(labels_val, tf.round(tf.squeeze(model_LSTM.predict(features_val))).numpy().tolist())\n",
    "LSTM_model_results"
   ]
  },
  {
   "cell_type": "markdown",
   "metadata": {},
   "source": [
    "**GRU LAYER MODEL**"
   ]
  },
  {
   "cell_type": "code",
   "execution_count": 47,
   "metadata": {},
   "outputs": [],
   "source": [
    "embedding_layer = tf.keras.layers.Embedding(input_dim = 10000, \n",
    "                                            output_dim = 128, \n",
    "                                            embeddings_initializer='uniform', \n",
    "                                            input_length=15)\n",
    "\n",
    "\n",
    "input = layers.Input(shape = (1,), dtype=\"string\")\n",
    "x = textvectorizer(input)\n",
    "x = embedding_layer(x)\n",
    "x = layers.GRU(64)(x)\n",
    "output = tf.keras.layers.Dense(1, activation='sigmoid')(x)\n",
    "\n",
    "model_GRU = tf.keras.Model(input, output, name = 'model_GRU_1')"
   ]
  },
  {
   "cell_type": "code",
   "execution_count": 48,
   "metadata": {},
   "outputs": [
    {
     "name": "stdout",
     "output_type": "stream",
     "text": [
      "Epoch 1/5\n",
      "381/381 [==============================] - 8s 17ms/step - loss: 0.6585 - accuracy: 0.6014 - val_loss: 0.5889 - val_accuracy: 0.7545 - lr: 1.0000e-04\n",
      "Epoch 2/5\n",
      "381/381 [==============================] - 7s 18ms/step - loss: 0.3601 - accuracy: 0.8472 - val_loss: 0.5279 - val_accuracy: 0.7723 - lr: 1.1220e-04\n",
      "Epoch 3/5\n",
      "381/381 [==============================] - 7s 18ms/step - loss: 0.2068 - accuracy: 0.9196 - val_loss: 0.6428 - val_accuracy: 0.7500 - lr: 1.2589e-04\n",
      "Epoch 4/5\n",
      "380/381 [============================>.] - ETA: 0s - loss: 0.1317 - accuracy: 0.9516\n",
      "Epoch 00004: ReduceLROnPlateau reducing learning rate to 2.825075061991811e-05.\n",
      "381/381 [==============================] - 7s 17ms/step - loss: 0.1316 - accuracy: 0.9517 - val_loss: 0.8262 - val_accuracy: 0.7098 - lr: 1.4125e-04\n",
      "Epoch 5/5\n",
      "381/381 [==============================] - 7s 18ms/step - loss: 0.0966 - accuracy: 0.9662 - val_loss: 0.9826 - val_accuracy: 0.6964 - lr: 1.5849e-04\n"
     ]
    }
   ],
   "source": [
    "model_GRU.compile(loss = 'binary_crossentropy', optimizer=tf.keras.optimizers.Adam(), metrics=['accuracy'])\n",
    "\n",
    "log_dir = \"Tensorboard/GRU_Layer_Exp/\" + datetime.datetime.now().strftime(\"%Y%m%d-%H%M%S\")\n",
    "callbacks = [\n",
    "             tf.keras.callbacks.LearningRateScheduler(lambda epoch: 1e-4 * 10 ** (epoch / 20), verbose=0),\n",
    "             tf.keras.callbacks.ReduceLROnPlateau(monitor=\"val_loss\",  \n",
    "                                                 factor=0.2, # multiply the learning rate by 0.2 (reduce by 5x)\n",
    "                                                 patience=2,\n",
    "                                                 verbose=1, # print out when learning rate goes down \n",
    "                                                 min_lr=1e-7),\n",
    "              tf.keras.callbacks.EarlyStopping(monitor='val_accuracy',\n",
    "                                              patience=5, \n",
    "                                              verbose=0),\n",
    "              tf.keras.callbacks.ModelCheckpoint(\n",
    "                  filepath='Models_checkpoints/GRU_Layer_Exp/model_ep_{epoch:02d}_val_accuracy_{val_accuracy:.4f}.ckpt',\n",
    "                  # file path format: \"Model_checkpoint_Classification_2/cp-{epoch:02d}-{val_loss:.02f}.ckpt\"\n",
    "                  save_weights_only=True,\n",
    "                  verbose=0),\n",
    "            tf.keras.callbacks.TensorBoard(log_dir=log_dir)\n",
    "                ]\n",
    "\n",
    "history_GRU = model_GRU.fit(train_data, \n",
    "                    epochs=5,\n",
    "                    steps_per_epoch = len(train_data),\n",
    "                    validation_data = val_data,\n",
    "                    validation_steps = int(0.15*len(val_data)),\n",
    "                    callbacks = callbacks)"
   ]
  },
  {
   "cell_type": "code",
   "execution_count": 49,
   "metadata": {},
   "outputs": [
    {
     "name": "stdout",
     "output_type": "stream",
     "text": [
      "48/48 [==============================] - 0s 2ms/step - loss: 0.8562 - accuracy: 0.7518\n"
     ]
    },
    {
     "data": {
      "text/plain": [
       "[0.856205403804779, 0.7518056631088257]"
      ]
     },
     "execution_count": 49,
     "metadata": {},
     "output_type": "execute_result"
    }
   ],
   "source": [
    "model_GRU.load_weights('Models_checkpoints\\GRU_Layer_Exp\\model_ep_05_val_accuracy_0.6964.ckpt')\n",
    "model_GRU.evaluate(val_data)"
   ]
  },
  {
   "cell_type": "code",
   "execution_count": 140,
   "metadata": {},
   "outputs": [
    {
     "data": {
      "text/plain": [
       "{'accuracy': 0.7518056467498359,\n",
       " 'precision': 0.6927453769559033,\n",
       " 'recall': 0.7503852080123267,\n",
       " 'F1-Score': 0.7204142011834321,\n",
       " '(tn, fp, fn, tp)': (658, 216, 162, 487)}"
      ]
     },
     "execution_count": 140,
     "metadata": {},
     "output_type": "execute_result"
    }
   ],
   "source": [
    "preds_GRU = tf.round(tf.squeeze(model_GRU.predict(test_data))).numpy().tolist()\n",
    "GRU_model_results = matrices_calc(labels_val, tf.round(tf.squeeze(model_GRU.predict(features_val))).numpy().tolist())\n",
    "GRU_model_results"
   ]
  },
  {
   "cell_type": "markdown",
   "metadata": {},
   "source": [
    "**BIDIRECTIONAL LAYER MODEL**"
   ]
  },
  {
   "cell_type": "code",
   "execution_count": 51,
   "metadata": {},
   "outputs": [],
   "source": [
    "embedding_layer = tf.keras.layers.Embedding(input_dim = 10000, \n",
    "                                            output_dim = 128, \n",
    "                                            embeddings_initializer='uniform', \n",
    "                                            input_length=15)\n",
    "\n",
    "\n",
    "input = layers.Input(shape = (1,), dtype=\"string\")\n",
    "x = textvectorizer(input)\n",
    "x = embedding_layer(x)\n",
    "x = layers.Bidirectional(layers.LSTM(64))(x)\n",
    "output = tf.keras.layers.Dense(1, activation='sigmoid')(x)\n",
    "\n",
    "model_Bidirectional = tf.keras.Model(input, output, name = 'model_Bidirectional_1')"
   ]
  },
  {
   "cell_type": "code",
   "execution_count": 52,
   "metadata": {},
   "outputs": [
    {
     "name": "stdout",
     "output_type": "stream",
     "text": [
      "Epoch 1/5\n",
      "381/381 [==============================] - 12s 23ms/step - loss: 0.5938 - accuracy: 0.6644 - val_loss: 0.5104 - val_accuracy: 0.7589 - lr: 1.0000e-04\n",
      "Epoch 2/5\n",
      "381/381 [==============================] - 8s 21ms/step - loss: 0.2949 - accuracy: 0.8768 - val_loss: 0.5723 - val_accuracy: 0.7768 - lr: 1.1220e-04\n",
      "Epoch 3/5\n",
      "381/381 [==============================] - ETA: 0s - loss: 0.1640 - accuracy: 0.9414\n",
      "Epoch 00003: ReduceLROnPlateau reducing learning rate to 2.517850953154266e-05.\n",
      "381/381 [==============================] - 8s 21ms/step - loss: 0.1640 - accuracy: 0.9414 - val_loss: 0.7504 - val_accuracy: 0.7188 - lr: 1.2589e-04\n",
      "Epoch 4/5\n",
      "381/381 [==============================] - 7s 19ms/step - loss: 0.1010 - accuracy: 0.9672 - val_loss: 0.8658 - val_accuracy: 0.7277 - lr: 1.4125e-04\n",
      "Epoch 5/5\n",
      "380/381 [============================>.] - ETA: 0s - loss: 0.0784 - accuracy: 0.9737\n",
      "Epoch 00005: ReduceLROnPlateau reducing learning rate to 3.169786359649152e-05.\n",
      "381/381 [==============================] - 8s 20ms/step - loss: 0.0785 - accuracy: 0.9736 - val_loss: 0.9703 - val_accuracy: 0.7098 - lr: 1.5849e-04\n"
     ]
    }
   ],
   "source": [
    "model_Bidirectional.compile(loss = 'binary_crossentropy', optimizer=tf.keras.optimizers.Adam(), metrics=['accuracy'])\n",
    "\n",
    "log_dir = \"Tensorboard/Bidirectional_Layer_Exp/\" + datetime.datetime.now().strftime(\"%Y%m%d-%H%M%S\")\n",
    "callbacks = [\n",
    "             tf.keras.callbacks.LearningRateScheduler(lambda epoch: 1e-4 * 10 ** (epoch / 20), verbose=0),\n",
    "             tf.keras.callbacks.ReduceLROnPlateau(monitor=\"val_loss\",  \n",
    "                                                 factor=0.2, # multiply the learning rate by 0.2 (reduce by 5x)\n",
    "                                                 patience=2,\n",
    "                                                 verbose=1, # print out when learning rate goes down \n",
    "                                                 min_lr=1e-7),\n",
    "              tf.keras.callbacks.EarlyStopping(monitor='val_accuracy',\n",
    "                                              patience=5, \n",
    "                                              verbose=0),\n",
    "              tf.keras.callbacks.ModelCheckpoint(\n",
    "                  filepath='Models_checkpoints/Bidirectional_Layer_Exp/model_ep_{epoch:02d}_val_accuracy_{val_accuracy:.4f}.ckpt',\n",
    "                  # file path format: \"Model_checkpoint_Classification_2/cp-{epoch:02d}-{val_loss:.02f}.ckpt\"\n",
    "                  save_weights_only=True,\n",
    "                  verbose=0),\n",
    "            tf.keras.callbacks.TensorBoard(log_dir=log_dir)\n",
    "                ]\n",
    "\n",
    "history_Bidirectional = model_Bidirectional.fit(train_data, \n",
    "                    epochs=5,\n",
    "                    steps_per_epoch = len(train_data),\n",
    "                    validation_data = val_data,\n",
    "                    validation_steps = int(0.15*len(val_data)),\n",
    "                    callbacks = callbacks)"
   ]
  },
  {
   "cell_type": "code",
   "execution_count": 53,
   "metadata": {},
   "outputs": [
    {
     "name": "stdout",
     "output_type": "stream",
     "text": [
      "48/48 [==============================] - 0s 3ms/step - loss: 0.8118 - accuracy: 0.7689\n"
     ]
    },
    {
     "data": {
      "text/plain": [
       "[0.8118313550949097, 0.7688772082328796]"
      ]
     },
     "execution_count": 53,
     "metadata": {},
     "output_type": "execute_result"
    }
   ],
   "source": [
    "model_Bidirectional.load_weights('Models_checkpoints\\Bidirectional_Layer_Exp\\model_ep_05_val_accuracy_0.7098.ckpt')\n",
    "model_Bidirectional.evaluate(val_data)"
   ]
  },
  {
   "cell_type": "code",
   "execution_count": 160,
   "metadata": {},
   "outputs": [
    {
     "data": {
      "text/plain": [
       "{'accuracy': 0.5292186474064347,\n",
       " 'precision': 0.45792079207920794,\n",
       " 'recall': 0.5701078582434514,\n",
       " 'F1-Score': 0.5078929306794783,\n",
       " '(tn, fp, fn, tp)': (436, 438, 279, 370)}"
      ]
     },
     "execution_count": 160,
     "metadata": {},
     "output_type": "execute_result"
    }
   ],
   "source": [
    "preds_Bidirectional = tf.round(tf.squeeze(model_Bidirectional.predict(test_data))).numpy().tolist()\n",
    "Bidirectional_model_results = matrices_calc(labels_val, tf.round(tf.squeeze(model_Bidirectional.predict(features_val))).numpy().tolist())\n",
    "Bidirectional_model_results"
   ]
  },
  {
   "cell_type": "markdown",
   "metadata": {},
   "source": [
    "**CNN LAYER MODEL**"
   ]
  },
  {
   "cell_type": "code",
   "execution_count": 84,
   "metadata": {},
   "outputs": [],
   "source": [
    "embedding_layer = layers.Embedding(input_dim = 10000, \n",
    "                                    output_dim=128, \n",
    "                                    embeddings_initializer='uniform', \n",
    "                                    input_length=15)\n",
    "\n",
    "input = layers.Input(shape = (1,), dtype = 'string')\n",
    "x = textvectorizer(input)\n",
    "x = embedding_layer(x)\n",
    "x = layers.Conv1D(filters = 32, kernel_size = 5, activation = 'relu')(x)\n",
    "x = layers.GlobalAveragePooling1D()(x)\n",
    "output = layers.Dense(1, activation='sigmoid')(x)\n",
    "model_CNN = tf.keras.Model(input, output, name = 'model_CNN')\n",
    "\n",
    "\n",
    "# input = layers.Input(shape = (1,), dtype=\"string\")\n",
    "# x = textvectorizer(input)\n",
    "# x = embedding_layer(x)\n",
    "# x = layers.Bidirectional(layers.LSTM(64))(x)\n",
    "# output = tf.keras.layers.Dense(1, activation='sigmoid')(x)\n",
    "\n",
    "# model_Bidirectional = tf.keras.Model(input, output, name = 'model_Bidirectional_1')"
   ]
  },
  {
   "cell_type": "code",
   "execution_count": 87,
   "metadata": {},
   "outputs": [
    {
     "name": "stdout",
     "output_type": "stream",
     "text": [
      "Epoch 1/5\n",
      "381/381 [==============================] - 6s 14ms/step - loss: 0.1486 - accuracy: 0.9516 - val_loss: 0.6537 - val_accuracy: 0.7188 - lr: 1.0000e-04\n",
      "Epoch 2/5\n",
      "381/381 [==============================] - 5s 14ms/step - loss: 0.1281 - accuracy: 0.9567 - val_loss: 0.7114 - val_accuracy: 0.7098 - lr: 1.1220e-04\n",
      "Epoch 3/5\n",
      "378/381 [============================>.] - ETA: 0s - loss: 0.1105 - accuracy: 0.9618\n",
      "Epoch 00003: ReduceLROnPlateau reducing learning rate to 2.517850953154266e-05.\n",
      "381/381 [==============================] - 5s 14ms/step - loss: 0.1103 - accuracy: 0.9619 - val_loss: 0.7747 - val_accuracy: 0.7143 - lr: 1.2589e-04\n",
      "Epoch 4/5\n",
      "381/381 [==============================] - 6s 15ms/step - loss: 0.0956 - accuracy: 0.9648 - val_loss: 0.8464 - val_accuracy: 0.7054 - lr: 1.4125e-04\n",
      "Epoch 5/5\n",
      "380/381 [============================>.] - ETA: 0s - loss: 0.0834 - accuracy: 0.9692\n",
      "Epoch 00005: ReduceLROnPlateau reducing learning rate to 3.169786359649152e-05.\n",
      "381/381 [==============================] - 5s 14ms/step - loss: 0.0835 - accuracy: 0.9691 - val_loss: 0.9180 - val_accuracy: 0.7098 - lr: 1.5849e-04\n"
     ]
    }
   ],
   "source": [
    "model_CNN.compile(loss = 'binary_crossentropy', optimizer=tf.keras.optimizers.Adam(), metrics=['accuracy'])\n",
    "log_dir = \"Tensorboard/CNN_Layer_Exp/\" + datetime.datetime.now().strftime(\"%Y%m%d-%H%M%S\")\n",
    "callbacks = [\n",
    "             tf.keras.callbacks.LearningRateScheduler(lambda epoch: 1e-4 * 10 ** (epoch / 20), verbose=0),\n",
    "             tf.keras.callbacks.ReduceLROnPlateau(monitor=\"val_loss\",  \n",
    "                                                 factor=0.2, # multiply the learning rate by 0.2 (reduce by 5x)\n",
    "                                                 patience=2,\n",
    "                                                 verbose=1, # print out when learning rate goes down \n",
    "                                                 min_lr=1e-7),\n",
    "              tf.keras.callbacks.EarlyStopping(monitor='val_accuracy',\n",
    "                                              patience=5, \n",
    "                                              verbose=0),\n",
    "              tf.keras.callbacks.ModelCheckpoint(\n",
    "                  filepath='Models_checkpoints/CNN_Layer_Exp/model_ep_{epoch:02d}_val_accuracy_{val_accuracy:.4f}.ckpt',\n",
    "                  # file path format: \"Model_checkpoint_Classification_2/cp-{epoch:02d}-{val_loss:.02f}.ckpt\"\n",
    "                  save_weights_only=True,\n",
    "                  verbose=0),\n",
    "            tf.keras.callbacks.TensorBoard(log_dir=log_dir)\n",
    "                ]\n",
    "history_CNN = model_CNN.fit(train_data,\n",
    "                epochs = 5,\n",
    "                steps_per_epoch = len(train_data),\n",
    "                validation_data = val_data,\n",
    "                validation_steps = int(0.15*len(val_data)),\n",
    "                callbacks = callbacks)"
   ]
  },
  {
   "cell_type": "code",
   "execution_count": 90,
   "metadata": {},
   "outputs": [
    {
     "name": "stdout",
     "output_type": "stream",
     "text": [
      "48/48 [==============================] - 0s 2ms/step - loss: 0.7704 - accuracy: 0.7603\n"
     ]
    },
    {
     "data": {
      "text/plain": [
       "[0.7704440355300903, 0.7603414058685303]"
      ]
     },
     "execution_count": 90,
     "metadata": {},
     "output_type": "execute_result"
    }
   ],
   "source": [
    "model_CNN.load_weights('Models_checkpoints\\CNN_Layer_Exp\\model_ep_05_val_accuracy_0.7098.ckpt')\n",
    "model_CNN.evaluate(val_data)"
   ]
  },
  {
   "cell_type": "code",
   "execution_count": 155,
   "metadata": {},
   "outputs": [
    {
     "data": {
      "text/plain": [
       "{'accuracy': 0.7603414313854235,\n",
       " 'precision': 0.721183800623053,\n",
       " 'recall': 0.7134052388289677,\n",
       " 'F1-Score': 0.7172734314484895,\n",
       " '(tn, fp, fn, tp)': (695, 179, 186, 463)}"
      ]
     },
     "execution_count": 155,
     "metadata": {},
     "output_type": "execute_result"
    }
   ],
   "source": [
    "preds_CNN = tf.round(tf.squeeze(model_CNN.predict(test_data))).numpy().tolist()\n",
    "CNN_model_results = matrices_calc(labels_val, tf.round(tf.squeeze(model_CNN.predict(features_val))).numpy().tolist())\n",
    "CNN_model_results"
   ]
  },
  {
   "cell_type": "markdown",
   "metadata": {},
   "source": [
    "**Using Pretrained Embeddings (transfer learning for NLP)**"
   ]
  },
  {
   "cell_type": "code",
   "execution_count": 102,
   "metadata": {},
   "outputs": [],
   "source": [
    "import tensorflow_hub as hub\n",
    "\n",
    "embed = hub.load(\"https://tfhub.dev/google/universal-sentence-encoder/4\")\n"
   ]
  },
  {
   "cell_type": "code",
   "execution_count": 103,
   "metadata": {},
   "outputs": [
    {
     "name": "stdout",
     "output_type": "stream",
     "text": [
      "tf.Tensor(\n",
      "[ 0.05968354 -0.0160355  -0.02914821 -0.05212925  0.02219119 -0.04375772\n",
      " -0.02175827 -0.00285683  0.06052146  0.07888231  0.01754514 -0.00048307\n",
      " -0.00303452  0.03826183 -0.00717626 -0.066508    0.0197796  -0.07921368\n",
      " -0.05388004 -0.05932283 -0.03618991 -0.01079598 -0.05172737  0.03969066\n",
      " -0.08240779  0.07826601  0.06094696 -0.00315557  0.03758301 -0.01792064\n",
      "  0.01135455  0.08448923 -0.02728054 -0.0094435  -0.00829289  0.05783823\n",
      " -0.01559617 -0.00373469 -0.06719187 -0.05175795  0.00120352  0.05621188\n",
      " -0.00547588  0.04713415  0.02688809  0.04525854 -0.02508668 -0.01137264\n",
      " -0.0354304   0.03592852 -0.04883497 -0.03299141 -0.04440108 -0.03241378\n",
      " -0.07060566  0.00464731  0.05392553  0.02533009 -0.01198686  0.02648442\n",
      " -0.05612548 -0.06441199  0.03217232  0.04579192 -0.01634137  0.03273923\n",
      " -0.05343557  0.01555051  0.02573398  0.00867869 -0.0112708   0.01323091\n",
      " -0.0399779  -0.03572034  0.01663027  0.00909084  0.02308734  0.03665894\n",
      "  0.07215672  0.04339378  0.04741129  0.0183077   0.02695031 -0.06395172\n",
      "  0.01352294 -0.00823763 -0.04466709 -0.02281323 -0.02917396 -0.00881971\n",
      " -0.06885927  0.05987116 -0.05326559  0.0790982   0.02945225  0.08122709\n",
      " -0.0534214   0.07112421  0.03227122 -0.09154034  0.05923745 -0.06204582\n",
      " -0.02195525  0.08875643 -0.04200241  0.04401859 -0.05063793  0.02040784\n",
      "  0.03245187  0.06590131  0.04189294  0.00583273 -0.023462   -0.07787533\n",
      " -0.04075747 -0.02981336 -0.00663592  0.03615065  0.08805978  0.00885966\n",
      "  0.07300667  0.05976046  0.04476195 -0.04968236 -0.07100113  0.02242285\n",
      " -0.05879057 -0.03464671  0.06201865 -0.00421936 -0.03252375  0.06497421\n",
      " -0.05086384  0.07263526  0.00139585  0.0416285   0.00503773  0.04809688\n",
      "  0.04694967 -0.05387407  0.02723904 -0.06011928 -0.01410939 -0.02009457\n",
      " -0.02775423 -0.00734014  0.06436985  0.06621489 -0.0170688   0.00536123\n",
      "  0.00866095 -0.00208622 -0.04065555  0.01992573  0.03377075  0.02974286\n",
      " -0.02599602  0.00193236  0.02283483  0.00037971 -0.03536576  0.04531587\n",
      "  0.01880027 -0.03555898 -0.06857952 -0.01177694 -0.02072344 -0.04825439\n",
      " -0.03636359 -0.00273516 -0.06497978  0.06037941 -0.0310738   0.01356755\n",
      "  0.07133566 -0.04591028  0.05343076  0.00800601 -0.05162871  0.04199686\n",
      "  0.0352231  -0.04555564 -0.00522971 -0.05130734  0.06900262  0.06650269\n",
      " -0.01788498 -0.01606769  0.06680831  0.0146423   0.03628121  0.05043511\n",
      "  0.05325654 -0.02591303  0.03279797  0.00533919  0.03830574  0.06178965\n",
      "  0.06306303 -0.02997379 -0.09595028 -0.05299595 -0.0284384   0.08657481\n",
      " -0.00070433 -0.07306009  0.07155303  0.05186265 -0.01989826 -0.00828797\n",
      " -0.04241331  0.0202354   0.01640324 -0.01594064 -0.03375684  0.00652938\n",
      "  0.01985359  0.03763713  0.06640519  0.0197081  -0.00600813 -0.02788977\n",
      "  0.02906784 -0.01411756 -0.01726122  0.05707607 -0.03434201  0.03935229\n",
      "  0.00212241 -0.01517468  0.05266871  0.00510353  0.01704946  0.09734532\n",
      "  0.02114686  0.0217782   0.01270776  0.03584416 -0.02456514  0.03320449\n",
      " -0.07668623  0.06104106 -0.01780817  0.02838673 -0.02825714  0.01588808\n",
      " -0.06338206 -0.03814303 -0.03208932 -0.06442536 -0.03502322 -0.05217906\n",
      " -0.04406447 -0.03457087 -0.06984401 -0.03554093 -0.02463605 -0.03886775\n",
      " -0.01756455 -0.05327855  0.02125961 -0.03226131 -0.0753259   0.07180329\n",
      "  0.0636505   0.04228426  0.054061   -0.06788769 -0.01264228  0.05857532\n",
      " -0.04545779 -0.03343152  0.03978854  0.02535892 -0.00564819 -0.0237402\n",
      " -0.01681083  0.05990342  0.05251994 -0.03081512 -0.03818738 -0.01589187\n",
      " -0.05412985  0.05029397  0.03383511 -0.00906398  0.08108129  0.03666157\n",
      " -0.00029109 -0.05069609 -0.0384776   0.04392129  0.0837298  -0.08975136\n",
      "  0.05469194 -0.03023104 -0.01290382  0.08460616 -0.02144217  0.02300249\n",
      " -0.02885346  0.06557131  0.05451499 -0.02852753 -0.05756109 -0.05900906\n",
      "  0.03514135 -0.01020102 -0.04833471 -0.03733631 -0.05135794  0.04189046\n",
      "  0.03615478 -0.01528726  0.00828169 -0.03868679 -0.06864353  0.05151259\n",
      " -0.05182457  0.00943841 -0.0684858  -0.05172209  0.02354337 -0.01768425\n",
      " -0.00413072  0.02723611  0.02691621 -0.01228893 -0.00232815 -0.07430666\n",
      "  0.05159532  0.00964738  0.05227952  0.05373495 -0.03160302  0.05044705\n",
      " -0.01949954  0.0319625   0.04990831 -0.0036723   0.01169033  0.04652091\n",
      "  0.02261173 -0.01515721 -0.0915933   0.00255909  0.02983177  0.02038526\n",
      " -0.01559384  0.03271433 -0.0686139   0.06656989  0.01829047  0.0680488\n",
      " -0.01999295 -0.02572305 -0.09217118  0.01080314 -0.00094397 -0.02077589\n",
      " -0.0458667  -0.02544723  0.05842074 -0.04005666  0.07052458 -0.05286477\n",
      " -0.01522723 -0.03955287 -0.06231302  0.00156913  0.05126151 -0.04482846\n",
      " -0.00676308  0.06453966  0.05304316 -0.07005576  0.00916169 -0.05762391\n",
      " -0.00500059 -0.05225529  0.05925803  0.07041116  0.06444831  0.05850508\n",
      " -0.06869544 -0.0698025  -0.06085819  0.00297206  0.07713288 -0.0574507\n",
      "  0.05138547  0.06783103  0.04335155  0.06145744  0.06863491  0.03052394\n",
      " -0.00421991  0.03414559 -0.02622228  0.03636758 -0.02674752 -0.00369925\n",
      " -0.07886212  0.00653107  0.0022216   0.05320063 -0.0372893  -0.06944361\n",
      "  0.01599442 -0.02855576 -0.02708349  0.03366671 -0.00025183  0.05873493\n",
      " -0.03808416 -0.0210276   0.04872986  0.02691532  0.00450605  0.0027926\n",
      " -0.03212023 -0.00533511  0.02139234 -0.07846687  0.03004911 -0.07911232\n",
      " -0.01674275 -0.00347218 -0.08554932 -0.02039878 -0.05008358 -0.03062287\n",
      "  0.0507882  -0.0468829  -0.06706439 -0.00120109 -0.0131136   0.02699864\n",
      " -0.01384927  0.00605139  0.01625773  0.00395039 -0.02434724 -0.03748388\n",
      "  0.03801801  0.00849333  0.03581402 -0.07202658 -0.03922511 -0.08220812\n",
      " -0.02641817  0.00891359  0.00907238  0.01867029  0.05255021 -0.05863925\n",
      " -0.06451141 -0.05675428  0.00412307  0.01370686  0.05635281  0.03020123\n",
      "  0.04952501 -0.08416662 -0.05318447  0.03322184 -0.05366328 -0.03840516\n",
      "  0.07816199  0.06632835 -0.04671127 -0.02993603  0.04421344  0.02302398\n",
      " -0.03277405 -0.02144858 -0.0446843  -0.00186212  0.02458781  0.02482092\n",
      "  0.06742323  0.0101798   0.0153556  -0.03273953  0.06322818  0.01170409\n",
      "  0.02228365 -0.01815552  0.05408963  0.06669932 -0.06043949 -0.01057816\n",
      " -0.03271469  0.04819202  0.03356371  0.03154985  0.00441724  0.0147753\n",
      "  0.0006356   0.02270284  0.03828082 -0.05199739  0.02080673  0.05867682\n",
      "  0.01746198 -0.0740702  -0.02408902 -0.0698181   0.02683271  0.07703467\n",
      " -0.00915468 -0.06838535], shape=(512,), dtype=float32)\n"
     ]
    }
   ],
   "source": [
    "embed_samples = embed(['I like to do NLP',\n",
    "                      \"When you call the universal sentence encoder on a sentence, it turns it into numbers.\"])\n",
    "\n",
    "print(embed_samples[0])"
   ]
  },
  {
   "cell_type": "code",
   "execution_count": 112,
   "metadata": {},
   "outputs": [],
   "source": [
    "# input = layers.Input(shape = (1,))\n",
    "embedding_layer = hub.KerasLayer('https://tfhub.dev/google/universal-sentence-encoder/4',\n",
    "                            input_shape = [],\n",
    "                            dtype = 'string',\n",
    "                            trainable = False,\n",
    "                            name = 'USE')\n",
    "\n",
    "model_USE = tf.keras.models.Sequential([\n",
    "            embedding_layer,\n",
    "            layers.Dense(64, activation='relu'),\n",
    "            layers.Dense(1, activation='sigmoid')\n",
    "])"
   ]
  },
  {
   "cell_type": "code",
   "execution_count": 114,
   "metadata": {},
   "outputs": [
    {
     "name": "stdout",
     "output_type": "stream",
     "text": [
      "Epoch 1/5\n",
      "381/381 [==============================] - 7s 14ms/step - loss: 0.6442 - accuracy: 0.7318 - val_loss: 0.5888 - val_accuracy: 0.7946 - lr: 1.0000e-04\n",
      "Epoch 2/5\n",
      "381/381 [==============================] - 5s 12ms/step - loss: 0.5273 - accuracy: 0.7943 - val_loss: 0.4888 - val_accuracy: 0.8036 - lr: 1.1220e-04\n",
      "Epoch 3/5\n",
      "381/381 [==============================] - 4s 11ms/step - loss: 0.4603 - accuracy: 0.8028 - val_loss: 0.4437 - val_accuracy: 0.8036 - lr: 1.2589e-04\n",
      "Epoch 4/5\n",
      "381/381 [==============================] - 4s 12ms/step - loss: 0.4325 - accuracy: 0.8101 - val_loss: 0.4225 - val_accuracy: 0.8214 - lr: 1.4125e-04\n",
      "Epoch 5/5\n",
      "381/381 [==============================] - 6s 16ms/step - loss: 0.4180 - accuracy: 0.8151 - val_loss: 0.4107 - val_accuracy: 0.8348 - lr: 1.5849e-04\n"
     ]
    }
   ],
   "source": [
    "model_USE.compile(loss = 'binary_crossentropy', optimizer=tf.keras.optimizers.Adam(), metrics=['accuracy'])\n",
    "log_dir = \"Tensorboard/USE_Layer_Exp/\" + datetime.datetime.now().strftime(\"%Y%m%d-%H%M%S\")\n",
    "callbacks = [\n",
    "             tf.keras.callbacks.LearningRateScheduler(lambda epoch: 1e-4 * 10 ** (epoch / 20), verbose=0),\n",
    "             tf.keras.callbacks.ReduceLROnPlateau(monitor=\"val_loss\",  \n",
    "                                                 factor=0.2, # multiply the learning rate by 0.2 (reduce by 5x)\n",
    "                                                 patience=2,\n",
    "                                                 verbose=1, # print out when learning rate goes down \n",
    "                                                 min_lr=1e-7),\n",
    "              tf.keras.callbacks.EarlyStopping(monitor='val_accuracy',\n",
    "                                              patience=5, \n",
    "                                              verbose=0),\n",
    "              tf.keras.callbacks.ModelCheckpoint(\n",
    "                  filepath='Models_checkpoints/USE_Layer_Exp/model_ep_{epoch:02d}_val_accuracy_{val_accuracy:.4f}.ckpt',\n",
    "                  # file path format: \"Model_checkpoint_Classification_2/cp-{epoch:02d}-{val_loss:.02f}.ckpt\"\n",
    "                  save_weights_only=True,\n",
    "                  verbose=0),\n",
    "            tf.keras.callbacks.TensorBoard(log_dir=log_dir)]\n",
    "\n",
    "history_USE = model_USE.fit(train_data,\n",
    "                epochs = 5,\n",
    "                steps_per_epoch = len(train_data),\n",
    "                validation_data = val_data,\n",
    "                validation_steps = int(0.15*len(val_data)),\n",
    "                callbacks = callbacks)"
   ]
  },
  {
   "cell_type": "code",
   "execution_count": 120,
   "metadata": {},
   "outputs": [
    {
     "data": {
      "text/plain": [
       "<tensorflow.python.training.tracking.util.CheckpointLoadStatus at 0x16f7dfa34c0>"
      ]
     },
     "execution_count": 120,
     "metadata": {},
     "output_type": "execute_result"
    }
   ],
   "source": [
    "model_USE.load_weights('Models_checkpoints\\\\USE_Layer_Exp\\model_ep_05_val_accuracy_0.8348.ckpt')\n"
   ]
  },
  {
   "cell_type": "code",
   "execution_count": 121,
   "metadata": {},
   "outputs": [
    {
     "name": "stdout",
     "output_type": "stream",
     "text": [
      "Epoch 5/10\n",
      "381/381 [==============================] - 6s 15ms/step - loss: 0.4089 - accuracy: 0.8209 - val_loss: 0.4048 - val_accuracy: 0.8304 - lr: 1.5849e-04\n",
      "Epoch 6/10\n",
      "381/381 [==============================] - 5s 14ms/step - loss: 0.4026 - accuracy: 0.8235 - val_loss: 0.4013 - val_accuracy: 0.8393 - lr: 1.7783e-04\n",
      "Epoch 7/10\n",
      "381/381 [==============================] - 5s 14ms/step - loss: 0.3973 - accuracy: 0.8259 - val_loss: 0.3985 - val_accuracy: 0.8348 - lr: 1.9953e-04\n",
      "Epoch 8/10\n",
      "381/381 [==============================] - 5s 14ms/step - loss: 0.3926 - accuracy: 0.8305 - val_loss: 0.3978 - val_accuracy: 0.8348 - lr: 2.2387e-04\n",
      "Epoch 9/10\n",
      "381/381 [==============================] - 5s 14ms/step - loss: 0.3885 - accuracy: 0.8320 - val_loss: 0.3965 - val_accuracy: 0.8304 - lr: 2.5119e-04\n",
      "Epoch 10/10\n",
      "381/381 [==============================] - 5s 14ms/step - loss: 0.3844 - accuracy: 0.8333 - val_loss: 0.3962 - val_accuracy: 0.8259 - lr: 2.8184e-04\n"
     ]
    }
   ],
   "source": [
    "history_USE_1 = model_USE.fit(train_data,\n",
    "                initial_epoch = 4,\n",
    "                epochs = 10,\n",
    "                steps_per_epoch = len(train_data),\n",
    "                validation_data = val_data,\n",
    "                validation_steps = int(0.15*len(val_data)),\n",
    "                callbacks = callbacks)"
   ]
  },
  {
   "cell_type": "code",
   "execution_count": 122,
   "metadata": {},
   "outputs": [
    {
     "data": {
      "text/plain": [
       "<tensorflow.python.training.tracking.util.CheckpointLoadStatus at 0x16fee3b2d60>"
      ]
     },
     "execution_count": 122,
     "metadata": {},
     "output_type": "execute_result"
    }
   ],
   "source": [
    "model_USE.load_weights('Models_checkpoints\\\\USE_Layer_Exp\\model_ep_06_val_accuracy_0.8393.ckpt')\n"
   ]
  },
  {
   "cell_type": "code",
   "execution_count": 171,
   "metadata": {},
   "outputs": [
    {
     "name": "stdout",
     "output_type": "stream",
     "text": [
      "48/48 [==============================] - 0s 7ms/step - loss: 0.4130 - accuracy: 0.8168\n",
      "[0.4129670262336731, 0.8168089389801025]\n"
     ]
    },
    {
     "data": {
      "text/plain": [
       "{'accuracy': 0.8168089297439265,\n",
       " 'precision': 0.8052805280528053,\n",
       " 'recall': 0.7519260400616333,\n",
       " 'F1-Score': 0.7776892430278886,\n",
       " '(tn, fp, fn, tp)': (756, 118, 161, 488)}"
      ]
     },
     "execution_count": 171,
     "metadata": {},
     "output_type": "execute_result"
    }
   ],
   "source": [
    "print(model_USE.evaluate(val_data))\n",
    "preds_USE = tf.round(tf.squeeze(model_USE.predict(test_data))).numpy().tolist()\n",
    "USE_model_results = matrices_calc(labels_val, tf.round(tf.squeeze(model_USE.predict(features_val))).numpy().tolist())\n",
    "USE_model_results"
   ]
  },
  {
   "cell_type": "markdown",
   "metadata": {},
   "source": [
    "**TRANSFERING ON 10% OF DATA**"
   ]
  },
  {
   "cell_type": "code",
   "execution_count": 129,
   "metadata": {},
   "outputs": [],
   "source": [
    "feature_90, feature_10, label_90, label_10 = train_test_split(features_train, labels_train,\n",
    "                                                            test_size=0.1,\n",
    "                                                            random_state=42)"
   ]
  },
  {
   "cell_type": "code",
   "execution_count": 130,
   "metadata": {},
   "outputs": [],
   "source": [
    "model_USE_10 = tf.keras.models.clone_model(model_USE)"
   ]
  },
  {
   "cell_type": "code",
   "execution_count": 132,
   "metadata": {},
   "outputs": [
    {
     "name": "stdout",
     "output_type": "stream",
     "text": [
      "Epoch 1/5\n",
      "20/20 [==============================] - 4s 136ms/step - loss: 0.4494 - accuracy: 0.7997 - val_loss: 0.4452 - val_accuracy: 0.8214 - lr: 1.0000e-04\n",
      "Epoch 2/5\n",
      "20/20 [==============================] - 2s 113ms/step - loss: 0.4468 - accuracy: 0.7997 - val_loss: 0.4445 - val_accuracy: 0.8214 - lr: 1.1220e-04\n",
      "Epoch 3/5\n",
      "20/20 [==============================] - 2s 115ms/step - loss: 0.4449 - accuracy: 0.7997 - val_loss: 0.4440 - val_accuracy: 0.8170 - lr: 1.2589e-04\n",
      "Epoch 4/5\n",
      "20/20 [==============================] - 2s 113ms/step - loss: 0.4427 - accuracy: 0.7997 - val_loss: 0.4430 - val_accuracy: 0.8214 - lr: 1.4125e-04\n",
      "Epoch 5/5\n",
      "20/20 [==============================] - 2s 111ms/step - loss: 0.4401 - accuracy: 0.8013 - val_loss: 0.4422 - val_accuracy: 0.8214 - lr: 1.5849e-04\n"
     ]
    }
   ],
   "source": [
    "model_USE_10.compile(loss = 'binary_crossentropy', optimizer=tf.keras.optimizers.Adam(), metrics=['accuracy'])\n",
    "log_dir = \"Tensorboard/USE_10_Layer_Exp/\" + datetime.datetime.now().strftime(\"%Y%m%d-%H%M%S\")\n",
    "callbacks = [\n",
    "             tf.keras.callbacks.LearningRateScheduler(lambda epoch: 1e-4 * 10 ** (epoch / 20), verbose=0),\n",
    "             tf.keras.callbacks.ReduceLROnPlateau(monitor=\"val_loss\",  \n",
    "                                                 factor=0.2, # multiply the learning rate by 0.2 (reduce by 5x)\n",
    "                                                 patience=2,\n",
    "                                                 verbose=1, # print out when learning rate goes down \n",
    "                                                 min_lr=1e-7),\n",
    "              tf.keras.callbacks.EarlyStopping(monitor='val_accuracy',\n",
    "                                              patience=5, \n",
    "                                              verbose=0),\n",
    "              tf.keras.callbacks.ModelCheckpoint(\n",
    "                  filepath='Models_checkpoints/USE_10_Layer_Exp/model_ep_{epoch:02d}_val_accuracy_{val_accuracy:.4f}.ckpt',\n",
    "                  # file path format: \"Model_checkpoint_Classification_2/cp-{epoch:02d}-{val_loss:.02f}.ckpt\"\n",
    "                  save_weights_only=True,\n",
    "                  verbose=0),\n",
    "            tf.keras.callbacks.TensorBoard(log_dir=log_dir)]\n",
    "\n",
    "history_USE_10 = model_USE_10.fit(feature_10, label_10,\n",
    "                epochs = 5,\n",
    "                #steps_per_epoch = len(train_data),\n",
    "                validation_data = val_data,\n",
    "                validation_steps = int(0.15*len(val_data)),\n",
    "                callbacks = callbacks)"
   ]
  },
  {
   "cell_type": "code",
   "execution_count": 144,
   "metadata": {},
   "outputs": [
    {
     "name": "stdout",
     "output_type": "stream",
     "text": [
      "48/48 [==============================] - 0s 8ms/step - loss: 0.4410 - accuracy: 0.8076\n",
      "[0.4409676194190979, 0.8076165318489075]\n"
     ]
    },
    {
     "data": {
      "text/plain": [
       "{'accuracy': 0.8076165462902167,\n",
       " 'precision': 0.7861736334405145,\n",
       " 'recall': 0.7534668721109399,\n",
       " 'F1-Score': 0.7694728560188828,\n",
       " '(tn, fp, fn, tp)': (741, 133, 160, 489)}"
      ]
     },
     "execution_count": 144,
     "metadata": {},
     "output_type": "execute_result"
    }
   ],
   "source": [
    "model_USE_10.load_weights('Models_checkpoints\\\\USE_10_Layer_Exp\\model_ep_05_val_accuracy_0.8214.ckpt')\n",
    "print(model_USE_10.evaluate(val_data))\n",
    "preds_USE_10 = tf.round(tf.squeeze(model_USE_10.predict(test_data))).numpy().tolist()\n",
    "USE_10_results = matrices_calc(labels_val, tf.round(tf.squeeze(model_USE_10.predict(features_val))).numpy().tolist())\n",
    "USE_10_results"
   ]
  },
  {
   "cell_type": "markdown",
   "metadata": {},
   "source": [
    "**Comparing all models**"
   ]
  },
  {
   "cell_type": "code",
   "execution_count": 157,
   "metadata": {},
   "outputs": [
    {
     "data": {
      "text/html": [
       "<div>\n",
       "<style scoped>\n",
       "    .dataframe tbody tr th:only-of-type {\n",
       "        vertical-align: middle;\n",
       "    }\n",
       "\n",
       "    .dataframe tbody tr th {\n",
       "        vertical-align: top;\n",
       "    }\n",
       "\n",
       "    .dataframe thead th {\n",
       "        text-align: right;\n",
       "    }\n",
       "</style>\n",
       "<table border=\"1\" class=\"dataframe\">\n",
       "  <thead>\n",
       "    <tr style=\"text-align: right;\">\n",
       "      <th></th>\n",
       "      <th>base model</th>\n",
       "      <th>LSTM model</th>\n",
       "      <th>GRU model</th>\n",
       "      <th>Bidirectional model</th>\n",
       "      <th>CNN model</th>\n",
       "      <th>USE model</th>\n",
       "      <th>USE 10% model</th>\n",
       "    </tr>\n",
       "  </thead>\n",
       "  <tbody>\n",
       "    <tr>\n",
       "      <th>accuracy</th>\n",
       "      <td>0.800394</td>\n",
       "      <td>0.759685</td>\n",
       "      <td>0.751806</td>\n",
       "      <td>0.529219</td>\n",
       "      <td>0.760341</td>\n",
       "      <td>0.816809</td>\n",
       "      <td>0.807617</td>\n",
       "    </tr>\n",
       "    <tr>\n",
       "      <th>precision</th>\n",
       "      <td>0.82243</td>\n",
       "      <td>0.71407</td>\n",
       "      <td>0.692745</td>\n",
       "      <td>0.457921</td>\n",
       "      <td>0.721184</td>\n",
       "      <td>0.805281</td>\n",
       "      <td>0.786174</td>\n",
       "    </tr>\n",
       "    <tr>\n",
       "      <th>recall</th>\n",
       "      <td>0.677966</td>\n",
       "      <td>0.727273</td>\n",
       "      <td>0.750385</td>\n",
       "      <td>0.570108</td>\n",
       "      <td>0.713405</td>\n",
       "      <td>0.751926</td>\n",
       "      <td>0.753467</td>\n",
       "    </tr>\n",
       "    <tr>\n",
       "      <th>F1-Score</th>\n",
       "      <td>0.743243</td>\n",
       "      <td>0.720611</td>\n",
       "      <td>0.720414</td>\n",
       "      <td>0.507893</td>\n",
       "      <td>0.717273</td>\n",
       "      <td>0.777689</td>\n",
       "      <td>0.769473</td>\n",
       "    </tr>\n",
       "    <tr>\n",
       "      <th>(tn, fp, fn, tp)</th>\n",
       "      <td>(779, 95, 209, 440)</td>\n",
       "      <td>(685, 189, 177, 472)</td>\n",
       "      <td>(658, 216, 162, 487)</td>\n",
       "      <td>(436, 438, 279, 370)</td>\n",
       "      <td>(695, 179, 186, 463)</td>\n",
       "      <td>(756, 118, 161, 488)</td>\n",
       "      <td>(741, 133, 160, 489)</td>\n",
       "    </tr>\n",
       "  </tbody>\n",
       "</table>\n",
       "</div>"
      ],
      "text/plain": [
       "                           base model            LSTM model  \\\n",
       "accuracy                     0.800394              0.759685   \n",
       "precision                     0.82243               0.71407   \n",
       "recall                       0.677966              0.727273   \n",
       "F1-Score                     0.743243              0.720611   \n",
       "(tn, fp, fn, tp)  (779, 95, 209, 440)  (685, 189, 177, 472)   \n",
       "\n",
       "                             GRU model   Bidirectional model  \\\n",
       "accuracy                      0.751806              0.529219   \n",
       "precision                     0.692745              0.457921   \n",
       "recall                        0.750385              0.570108   \n",
       "F1-Score                      0.720414              0.507893   \n",
       "(tn, fp, fn, tp)  (658, 216, 162, 487)  (436, 438, 279, 370)   \n",
       "\n",
       "                             CNN model             USE model  \\\n",
       "accuracy                      0.760341              0.816809   \n",
       "precision                     0.721184              0.805281   \n",
       "recall                        0.713405              0.751926   \n",
       "F1-Score                      0.717273              0.777689   \n",
       "(tn, fp, fn, tp)  (695, 179, 186, 463)  (756, 118, 161, 488)   \n",
       "\n",
       "                         USE 10% model  \n",
       "accuracy                      0.807617  \n",
       "precision                     0.786174  \n",
       "recall                        0.753467  \n",
       "F1-Score                      0.769473  \n",
       "(tn, fp, fn, tp)  (741, 133, 160, 489)  "
      ]
     },
     "execution_count": 157,
     "metadata": {},
     "output_type": "execute_result"
    }
   ],
   "source": [
    "import pandas as pd\n",
    "all_model_results = pd.DataFrame({'base model': base_model_results,\n",
    "                                    'LSTM model': LSTM_model_results,\n",
    "                                    'GRU model': GRU_model_results,\n",
    "                                    'Bidirectional model': Bidirectional_model_results,\n",
    "                                    'CNN model': CNN_model_results,\n",
    "                                    'USE model': USE_model_results,\n",
    "                                    'USE 10% model': USE_10_results})\n",
    "#all_model_results = all_model_results.transpose()\n",
    "all_model_results"
   ]
  },
  {
   "cell_type": "code",
   "execution_count": 158,
   "metadata": {},
   "outputs": [
    {
     "data": {
      "image/png": "[encoded data removed]",
      "text/plain": [
       "<Figure size 720x504 with 1 Axes>"
      ]
     },
     "metadata": {
      "needs_background": "light"
     },
     "output_type": "display_data"
    }
   ],
   "source": [
    "all_model_results.transpose().plot(kind=\"bar\", figsize=(10, 7)).legend(bbox_to_anchor=(1.0, 1.0));\n"
   ]
  },
  {
   "cell_type": "code",
   "execution_count": 159,
   "metadata": {},
   "outputs": [
    {
     "data": {
      "image/png": "[encoded data removed]",
      "text/plain": [
       "<Figure size 720x504 with 1 Axes>"
      ]
     },
     "metadata": {
      "needs_background": "light"
     },
     "output_type": "display_data"
    }
   ],
   "source": [
    "all_model_results.transpose().sort_values(\"F1-Score\", ascending=False)[\"F1-Score\"].plot(kind=\"bar\", figsize=(10, 7));\n"
   ]
  },
  {
   "cell_type": "markdown",
   "metadata": {},
   "source": []
  },
  {
   "cell_type": "code",
   "execution_count": 183,
   "metadata": {},
   "outputs": [],
   "source": [
    "import numpy as np\n",
    "combined_preds = (np.array(preds) + np.array(preds_CNN) + np.array(preds_USE))//3"
   ]
  },
  {
   "cell_type": "code",
   "execution_count": 184,
   "metadata": {},
   "outputs": [
    {
     "data": {
      "text/plain": [
       "array([1., 0., 1., ..., 1., 0., 1.])"
      ]
     },
     "execution_count": 184,
     "metadata": {},
     "output_type": "execute_result"
    }
   ],
   "source": [
    "combined_preds"
   ]
  },
  {
   "cell_type": "markdown",
   "metadata": {},
   "source": [
    "**Saving the hub model**"
   ]
  },
  {
   "cell_type": "code",
   "execution_count": 185,
   "metadata": {},
   "outputs": [],
   "source": [
    "model_USE.save('model_USE.h5')"
   ]
  },
  {
   "cell_type": "code",
   "execution_count": 189,
   "metadata": {},
   "outputs": [],
   "source": [
    "loaded_model = tf.keras.models.load_model(\"model_USE.h5\", custom_objects={\"KerasLayer\": hub.KerasLayer})"
   ]
  },
  {
   "cell_type": "code",
   "execution_count": 190,
   "metadata": {},
   "outputs": [],
   "source": [
    "predictions = loaded_model.predict(val_data)"
   ]
  },
  {
   "cell_type": "code",
   "execution_count": 222,
   "metadata": {},
   "outputs": [],
   "source": [
    "pred_prob_lst = np.squeeze(predictions).tolist() # Prediction probability list"
   ]
  },
  {
   "cell_type": "code",
   "execution_count": 224,
   "metadata": {},
   "outputs": [],
   "source": [
    "pos_idx_val_lst = [i for i, e in enumerate(labels_val) if e == 1] # index values of all the positives in the validation\n",
    "neg_idx_val_lst = [i for i, e in enumerate(labels_val) if e == 0]"
   ]
  },
  {
   "cell_type": "code",
   "execution_count": 228,
   "metadata": {},
   "outputs": [],
   "source": [
    "pos_val_pred_prob = [pred_prob_lst[i] for i in pos_idx_val_lst] # prediction probabilities of positives in validation set.\n",
    "neg_val_pred_prob = [pred_prob_lst[i] for i in neg_idx_val_lst]"
   ]
  },
  {
   "cell_type": "code",
   "execution_count": 235,
   "metadata": {},
   "outputs": [
    {
     "data": {
      "image/png": "[encoded data removed]",
      "text/plain": [
       "<Figure size 432x288 with 1 Axes>"
      ]
     },
     "metadata": {
      "needs_background": "light"
     },
     "output_type": "display_data"
    }
   ],
   "source": [
    "import matplotlib.pyplot as plt\n",
    "\n",
    "plt.figure()\n",
    "plt.hist(pos_val_pred_prob, rwidth=0.2, label = 'Actual value 0')\n",
    "plt.hist(neg_val_pred_prob, rwidth=0.2, label = 'Actual value 1')\n",
    "plt.title('Count VS Confidence')\n",
    "plt.legend();\n",
    "plt.show()"
   ]
  },
  {
   "cell_type": "code",
   "execution_count": null,
   "metadata": {},
   "outputs": [],
   "source": []
  }
 ],
 "metadata": {
  "interpreter": {
   "hash": "b6dd608ddd16ef8114cec5f050ad31736520bdbacef8568d33dc109fcf0153f1"
  },
  "kernelspec": {
   "display_name": "Python 3.8.0 64-bit",
   "language": "python",
   "name": "python3"
  },
  "language_info": {
   "codemirror_mode": {
    "name": "ipython",
    "version": 3
   },
   "file_extension": ".py",
   "mimetype": "text/x-python",
   "name": "python",
   "nbconvert_exporter": "python",
   "pygments_lexer": "ipython3",
   "version": "3.8.0"
  },
  "orig_nbformat": 4
 },
 "nbformat": 4,
 "nbformat_minor": 2
}
